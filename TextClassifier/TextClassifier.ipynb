{
 "cells": [
  {
   "cell_type": "markdown",
   "id": "702fa2ef-6996-4e9c-9479-ac7bf0c6de34",
   "metadata": {},
   "source": [
    "# 1️⃣ Data Preparation"
   ]
  },
  {
   "cell_type": "code",
   "execution_count": 1,
   "id": "13277076-e42c-492d-9870-b2520b52d627",
   "metadata": {},
   "outputs": [],
   "source": [
    "import random, numpy as np, pandas as pd, torch\n",
    "from datasets import load_dataset\n",
    "from sklearn.preprocessing import LabelEncoder\n",
    "\n",
    "SEED = 322\n",
    "rng = np.random.RandomState(SEED)\n",
    "random.seed(SEED); np.random.seed(SEED); torch.manual_seed(SEED); torch.cuda.manual_seed_all(SEED)"
   ]
  },
  {
   "cell_type": "code",
   "execution_count": 3,
   "id": "27697d9e-78db-448f-a87c-52f57fcd5d89",
   "metadata": {},
   "outputs": [
    {
     "name": "stdout",
     "output_type": "stream",
     "text": [
      "Raw shape: (1500, 4)\n",
      "label\n",
      "Injuries      100\n",
      "Interview     100\n",
      "Pre-Match     100\n",
      "Reaction     1000\n",
      "Report        100\n",
      "Transfers     100\n",
      "Name: count, dtype: int64\n"
     ]
    }
   ],
   "source": [
    "# Load HF dataset\n",
    "ds = load_dataset(\"marekk/testing_dataset_article_category\")\n",
    "df = ds[\"train\"].to_pandas()\n",
    "\n",
    "# Fill NaNs\n",
    "df[\"title\"] = df[\"title\"].fillna(\"\")\n",
    "df[\"perex\"] = df[\"perex\"].fillna(\"\")\n",
    "df[\"full_text\"] = df[\"title\"] + \"\\n\\n\" + df[\"perex\"]\n",
    "\n",
    "print(\"Raw shape:\", df.shape)\n",
    "print(df[\"label\"].value_counts().sort_index())\n"
   ]
  },
  {
   "cell_type": "code",
   "execution_count": 4,
   "id": "c4087e8c-f80f-4652-b346-7ceeeb633776",
   "metadata": {},
   "outputs": [
    {
     "name": "stdout",
     "output_type": "stream",
     "text": [
      "After dedup/conflict-resolve: (1474, 4)\n",
      "label\n",
      "Injuries      99\n",
      "Interview     85\n",
      "Pre-Match     97\n",
      "Reaction     999\n",
      "Report        96\n",
      "Transfers     98\n",
      "Name: count, dtype: int64\n"
     ]
    }
   ],
   "source": [
    "# Drop exact duplicates (same text + same label)\n",
    "df_unique = df.drop_duplicates(subset=[\"full_text\", \"label\"]).copy()\n",
    "\n",
    "# Resolve conflicting labels for the same text: keep minority label\n",
    "label_counts = df_unique[\"label\"].value_counts()\n",
    "label_sets = (\n",
    "    df_unique.groupby(\"full_text\")[\"label\"]\n",
    "             .apply(lambda s: sorted(set(s)))\n",
    "             .reset_index(name=\"labels\")\n",
    ")\n",
    "multi = label_sets[label_sets[\"labels\"].apply(len) > 1]\n",
    "\n",
    "def pick_label(labels):\n",
    "    counts = [(lab, label_counts.get(lab, 0)) for lab in labels]\n",
    "    minc = min(c for _, c in counts)\n",
    "    cands = sorted([lab for lab, c in counts if c == minc])\n",
    "    return cands[0]\n",
    "\n",
    "chosen = {row.full_text: pick_label(row.labels) for row in multi.itertuples()}\n",
    "\n",
    "df_clean = df_unique[\n",
    "    ~df_unique[\"full_text\"].isin(chosen.keys()) |\n",
    "    (df_unique[\"label\"] == df_unique[\"full_text\"].map(chosen))\n",
    "].copy()\n",
    "\n",
    "print(\"After dedup/conflict-resolve:\", df_clean.shape)\n",
    "print(df_clean[\"label\"].value_counts().sort_index())"
   ]
  },
  {
   "cell_type": "code",
   "execution_count": 5,
   "id": "1cf1af3c-3876-4bc0-9cb7-df3c21cdc863",
   "metadata": {},
   "outputs": [
    {
     "data": {
      "text/html": [
       "<div>\n",
       "<style scoped>\n",
       "    .dataframe tbody tr th:only-of-type {\n",
       "        vertical-align: middle;\n",
       "    }\n",
       "\n",
       "    .dataframe tbody tr th {\n",
       "        vertical-align: top;\n",
       "    }\n",
       "\n",
       "    .dataframe thead th {\n",
       "        text-align: right;\n",
       "    }\n",
       "</style>\n",
       "<table border=\"1\" class=\"dataframe\">\n",
       "  <thead>\n",
       "    <tr style=\"text-align: right;\">\n",
       "      <th></th>\n",
       "      <th>text</th>\n",
       "      <th>label</th>\n",
       "    </tr>\n",
       "  </thead>\n",
       "  <tbody>\n",
       "    <tr>\n",
       "      <th>0</th>\n",
       "      <td>Realu se vážně zranil Asensio. Ceballos by měl...</td>\n",
       "      <td>Injuries</td>\n",
       "    </tr>\n",
       "    <tr>\n",
       "      <th>1</th>\n",
       "      <td>Problémy s koleny dohnaly Richardse k brzkému ...</td>\n",
       "      <td>Injuries</td>\n",
       "    </tr>\n",
       "    <tr>\n",
       "      <th>2</th>\n",
       "      <td>Verletzungspech bei Real - Kreuzband-Schock fü...</td>\n",
       "      <td>Injuries</td>\n",
       "    </tr>\n",
       "  </tbody>\n",
       "</table>\n",
       "</div>"
      ],
      "text/plain": [
       "                                                text     label\n",
       "0  Realu se vážně zranil Asensio. Ceballos by měl...  Injuries\n",
       "1  Problémy s koleny dohnaly Richardse k brzkému ...  Injuries\n",
       "2  Verletzungspech bei Real - Kreuzband-Schock fü...  Injuries"
      ]
     },
     "execution_count": 5,
     "metadata": {},
     "output_type": "execute_result"
    }
   ],
   "source": [
    "# Build final text column (no extra preprocessing for transformers)\n",
    "df_clean[\"text\"] = df_clean[\"title\"] + \"\\n\\n\" + df_clean[\"perex\"]\n",
    "df_clean = df_clean[[\"text\", \"label\"]].reset_index(drop=True)\n",
    "df_clean.head(3)"
   ]
  },
  {
   "cell_type": "code",
   "execution_count": 6,
   "id": "c81611c1-7d9a-448d-88c6-a8ee6acde2d7",
   "metadata": {},
   "outputs": [
    {
     "name": "stdout",
     "output_type": "stream",
     "text": [
      "Shapes  ->  train/val/test: (1270, 2) (102, 2) (102, 2)\n",
      "VAL per class:\n",
      " label\n",
      "Injuries     17\n",
      "Interview    17\n",
      "Pre-Match    17\n",
      "Reaction     17\n",
      "Report       17\n",
      "Transfers    17\n",
      "Name: count, dtype: int64\n",
      "TEST per class:\n",
      " label\n",
      "Injuries     17\n",
      "Interview    17\n",
      "Pre-Match    17\n",
      "Reaction     17\n",
      "Report       17\n",
      "Transfers    17\n",
      "Name: count, dtype: int64\n"
     ]
    }
   ],
   "source": [
    "# Make balanced VAL/TEST (equal per class), rest -> TRAIN\n",
    "counts = df_clean[\"label\"].value_counts()\n",
    "k_each = int(np.floor(counts.min() * 0.20))\n",
    "k_each = max(1, k_each)\n",
    "\n",
    "val_idx, test_idx = [], []\n",
    "for lab in counts.index.tolist():\n",
    "    idx = df_clean.index[df_clean[\"label\"] == lab].to_numpy()\n",
    "    rng.shuffle(idx)\n",
    "    val_idx.extend(idx[:k_each])\n",
    "    test_idx.extend(idx[k_each:2*k_each])\n",
    "\n",
    "val_idx, test_idx = set(val_idx), set(test_idx)\n",
    "all_eval = val_idx | test_idx\n",
    "\n",
    "val_df   = df_clean.loc[list(val_idx)].reset_index(drop=True)\n",
    "test_df  = df_clean.loc[list(test_idx)].reset_index(drop=True)\n",
    "train_df = df_clean.drop(index=list(all_eval)).reset_index(drop=True)\n",
    "\n",
    "print(\"Shapes  ->  train/val/test:\", train_df.shape, val_df.shape, test_df.shape)\n",
    "print(\"VAL per class:\\n\",  val_df[\"label\"].value_counts().sort_index())\n",
    "print(\"TEST per class:\\n\", test_df[\"label\"].value_counts().sort_index())"
   ]
  },
  {
   "cell_type": "code",
   "execution_count": 7,
   "id": "ddb4e6c8-ef91-49e0-8f68-b6801e815247",
   "metadata": {},
   "outputs": [
    {
     "name": "stdout",
     "output_type": "stream",
     "text": [
      "Classes: {0: 'Injuries', 1: 'Interview', 2: 'Pre-Match', 3: 'Reaction', 4: 'Report', 5: 'Transfers'}\n"
     ]
    },
    {
     "data": {
      "text/html": [
       "<div>\n",
       "<style scoped>\n",
       "    .dataframe tbody tr th:only-of-type {\n",
       "        vertical-align: middle;\n",
       "    }\n",
       "\n",
       "    .dataframe tbody tr th {\n",
       "        vertical-align: top;\n",
       "    }\n",
       "\n",
       "    .dataframe thead th {\n",
       "        text-align: right;\n",
       "    }\n",
       "</style>\n",
       "<table border=\"1\" class=\"dataframe\">\n",
       "  <thead>\n",
       "    <tr style=\"text-align: right;\">\n",
       "      <th></th>\n",
       "      <th>text</th>\n",
       "      <th>label</th>\n",
       "      <th>label_id</th>\n",
       "    </tr>\n",
       "  </thead>\n",
       "  <tbody>\n",
       "    <tr>\n",
       "      <th>0</th>\n",
       "      <td>Realu se vážně zranil Asensio. Ceballos by měl...</td>\n",
       "      <td>Injuries</td>\n",
       "      <td>0</td>\n",
       "    </tr>\n",
       "    <tr>\n",
       "      <th>1</th>\n",
       "      <td>Problémy s koleny dohnaly Richardse k brzkému ...</td>\n",
       "      <td>Injuries</td>\n",
       "      <td>0</td>\n",
       "    </tr>\n",
       "  </tbody>\n",
       "</table>\n",
       "</div>"
      ],
      "text/plain": [
       "                                                text     label  label_id\n",
       "0  Realu se vážně zranil Asensio. Ceballos by měl...  Injuries         0\n",
       "1  Problémy s koleny dohnaly Richardse k brzkému ...  Injuries         0"
      ]
     },
     "execution_count": 7,
     "metadata": {},
     "output_type": "execute_result"
    }
   ],
   "source": [
    "# Label encoding\n",
    "le = LabelEncoder().fit(df_clean[\"label\"])\n",
    "\n",
    "train_df[\"label_id\"] = le.transform(train_df[\"label\"])\n",
    "val_df[\"label_id\"]   = le.transform(val_df[\"label\"])\n",
    "test_df[\"label_id\"]  = le.transform(test_df[\"label\"])\n",
    "\n",
    "id2label = {i: c for i, c in enumerate(le.classes_)}\n",
    "label2id = {v: k for k, v in id2label.items()}\n",
    "\n",
    "print(\"Classes:\", id2label)\n",
    "train_df.head(2)"
   ]
  },
  {
   "cell_type": "code",
   "execution_count": 22,
   "id": "2f6fe033-5f65-41d5-969c-61f3c7eda57a",
   "metadata": {},
   "outputs": [
    {
     "name": "stdout",
     "output_type": "stream",
     "text": [
      "Token length percentiles [50,75,90,95,98,99]: [67, 96, 136, 162, 195, 207]\n",
      "Suggested max_length (≈95th pct): 162\n",
      "Coverage if max_length=160: 0.946\n",
      "Coverage if max_length=192: 0.978\n",
      "Coverage if max_length=256: 1.0\n"
     ]
    },
    {
     "data": {
      "image/png": "[encoded data removed]",
      "text/plain": [
       "<Figure size 800x400 with 1 Axes>"
      ]
     },
     "metadata": {},
     "output_type": "display_data"
    }
   ],
   "source": [
    "# Token-length EDA\n",
    "import numpy as np, matplotlib.pyplot as plt\n",
    "from transformers import AutoTokenizer\n",
    "\n",
    "MODEL_NAME = \"xlm-roberta-base\"  # same as training\n",
    "tokenizer = AutoTokenizer.from_pretrained(MODEL_NAME, use_fast=True)\n",
    "\n",
    "texts = df_clean[\"text\"].tolist()\n",
    "lengths = [len(tokenizer(t, add_special_tokens=True, truncation=False)[\"input_ids\"]) for t in texts]\n",
    "lengths = np.asarray(lengths, dtype=int)\n",
    "\n",
    "# Percentiles + suggestion\n",
    "pcts = np.percentile(lengths, [50, 75, 90, 95, 98, 99]).astype(int)\n",
    "suggested = int(np.percentile(lengths, 95))  # typical trade-off\n",
    "\n",
    "print(\"Token length percentiles [50,75,90,95,98,99]:\", pcts.tolist())\n",
    "print(\"Suggested max_length (≈95th pct):\", suggested)\n",
    "\n",
    "# Coverage for common caps\n",
    "for cap in (160, 192, 256):\n",
    "    cov = np.mean(lengths <= cap)\n",
    "    print(f\"Coverage if max_length={cap}:\", np.round(cov, 3))\n",
    "\n",
    "# Plot histogram + reference lines\n",
    "plt.figure(figsize=(8,4))\n",
    "plt.hist(lengths, bins=50)\n",
    "plt.title(\"Token length distribution\")\n",
    "plt.xlabel(\"tokens\"); plt.ylabel(\"count\")\n",
    "\n",
    "for x, ls in [(160, \"--\"), (192, \"--\"), (256, \"--\"), (suggested, \"-.\")]:\n",
    "    plt.axvline(x, linestyle=ls)\n",
    "\n",
    "plt.show()"
   ]
  },
  {
   "cell_type": "markdown",
   "id": "f65e1e87-0c75-435a-be82-dab7c788dba5",
   "metadata": {},
   "source": [
    "What I did and why:\n",
    " - **Dataset & text field**:\n",
    "\n",
    "        Merged title + perex → text. Kept raw multilingual text (≈30 languages), no heavy cleaning needed for Transformers.\n",
    "   \n",
    " - **Duplicates**:\n",
    "   \n",
    "        Removed exact duplicates of text within the same label.\n",
    "\n",
    "        Found only 4 conflicts where the same text had different labels; didn’t turn this into a multi-label task.\n",
    "\n",
    " - **Imbalance**:\n",
    "\n",
    "        Strong skew toward Reaction. I did not downsample TRAIN; instead, handled imbalance later in modeling.\n",
    "\n",
    " - **Splits**:\n",
    "\n",
    "       Built balanced VAL/TEST (equal count per class, ~20%+20%); the rest is TRAIN.\n",
    "\n",
    " - **Length EDA**:\n",
    "\n",
    "       Token length percentiles suggested max_len ≈ 160 (95th pct ~162). Used dynamic padding during training."
   ]
  },
  {
   "cell_type": "markdown",
   "id": "daa68725-805c-42c2-8188-cb2c4f9318f8",
   "metadata": {},
   "source": [
    "# 2️⃣ Baseline Models\n",
    "\n",
    "Goal: establish a strong, fast lower bound and sanity-check the splits before fine-tuning Transformers."
   ]
  },
  {
   "cell_type": "code",
   "execution_count": 8,
   "id": "c6b7595a-b679-4591-a693-86efcabc5b59",
   "metadata": {},
   "outputs": [],
   "source": [
    "import numpy as np, pandas as pd\n",
    "from scipy.sparse import hstack\n",
    "from sklearn.feature_extraction.text import TfidfVectorizer\n",
    "from sklearn.svm import LinearSVC\n",
    "from sklearn.linear_model import LogisticRegression\n",
    "from sklearn.naive_bayes import MultinomialNB\n",
    "from sklearn.metrics import accuracy_score, f1_score, classification_report\n",
    "import joblib"
   ]
  },
  {
   "cell_type": "code",
   "execution_count": 9,
   "id": "f8235861-ff5e-40b4-a085-ede19039c371",
   "metadata": {},
   "outputs": [
    {
     "data": {
      "text/plain": [
       "((1270, 511891), (102, 511891))"
      ]
     },
     "execution_count": 9,
     "metadata": {},
     "output_type": "execute_result"
    }
   ],
   "source": [
    "# Build shared TF-IDF features \n",
    "# word 1-2 and char 3-6 n-grams\n",
    "word_vec = TfidfVectorizer(\n",
    "    analyzer=\"word\",\n",
    "    ngram_range=(1,2),\n",
    "    min_df=1,\n",
    "    max_df=0.99,\n",
    "    sublinear_tf=True\n",
    ")\n",
    "char_vec = TfidfVectorizer(\n",
    "    analyzer=\"char\",\n",
    "    ngram_range=(3,6),\n",
    "    min_df=1,\n",
    "    sublinear_tf=True\n",
    ")\n",
    "\n",
    "Xtr_w = word_vec.fit_transform(train_df[\"text\"])\n",
    "Xva_w = word_vec.transform(val_df[\"text\"])\n",
    "\n",
    "Xtr_c = char_vec.fit_transform(train_df[\"text\"])\n",
    "Xva_c = char_vec.transform(val_df[\"text\"])\n",
    "\n",
    "Xtr = hstack([Xtr_w, Xtr_c]).tocsr()\n",
    "Xva = hstack([Xva_w, Xva_c]).tocsr()\n",
    "\n",
    "y_train = train_df[\"label_id\"].values\n",
    "y_val   = val_df[\"label_id\"].values\n",
    "\n",
    "Xtr.shape, Xva.shape"
   ]
  },
  {
   "cell_type": "code",
   "execution_count": 10,
   "id": "09d9389e-44f2-4da4-a3bb-8dcac3f50e90",
   "metadata": {},
   "outputs": [],
   "source": [
    "#  train/eval loops with small param sweeps\n",
    "\n",
    "def _eval_val(clf, Xva, yva):\n",
    "    pred = clf.predict(Xva)\n",
    "    return {\n",
    "        \"acc\": accuracy_score(yva, pred),\n",
    "        \"macro_f1\": f1_score(yva, pred, average=\"macro\"),\n",
    "        \"micro_f1\": f1_score(yva, pred, average=\"micro\"),\n",
    "    }\n",
    "\n",
    "def sweep_linear_svc(Xtr, ytr, Xva, yva, Cs=(0.25, 0.5, 1.0, 2.0, 4.0), seed=42):\n",
    "    rows = []\n",
    "    for C in Cs:\n",
    "        clf = LinearSVC(C=C, class_weight=\"balanced\", max_iter=10000, random_state=seed)\n",
    "        clf.fit(Xtr, ytr)\n",
    "        m = _eval_val(clf, Xva, yva)\n",
    "        rows.append({\"model\":\"LinearSVC\",\"C\":C, **m, \"clf\":clf})\n",
    "    # best by macro-F1 and by accuracy\n",
    "    best_macro = max(rows, key=lambda r: r[\"macro_f1\"])\n",
    "    best_acc   = max(rows, key=lambda r: r[\"acc\"])\n",
    "    table = pd.DataFrame([{k:v for k,v in r.items() if k!=\"clf\"} for r in rows]).sort_values(\"C\")\n",
    "    return best_macro, best_acc, table\n",
    "\n",
    "def sweep_logreg(Xtr, ytr, Xva, yva, Cs=(0.25, 0.5, 1.0, 2.0, 4.0), seed=42):\n",
    "    rows = []\n",
    "    for C in Cs:\n",
    "        clf = LogisticRegression(\n",
    "            C=C, penalty=\"l2\", solver=\"saga\", max_iter=5000,\n",
    "            class_weight=\"balanced\", n_jobs=-1, multi_class=\"multinomial\", random_state=seed\n",
    "        )\n",
    "        clf.fit(Xtr, ytr)\n",
    "        m = _eval_val(clf, Xva, yva)\n",
    "        rows.append({\"model\":\"LogReg_saga\",\"C\":C, **m, \"clf\":clf})\n",
    "    best_macro = max(rows, key=lambda r: r[\"macro_f1\"])\n",
    "    best_acc   = max(rows, key=lambda r: r[\"acc\"])\n",
    "    table = pd.DataFrame([{k:v for k,v in r.items() if k!=\"clf\"} for r in rows]).sort_values(\"C\")\n",
    "    return best_macro, best_acc, table\n",
    "\n",
    "def sweep_nb(Xtr, ytr, Xva, yva, alphas=(0.1, 0.3, 0.7, 1.0, 2.0)):\n",
    "    rows = []\n",
    "    for a in alphas:\n",
    "        clf = MultinomialNB(alpha=a)\n",
    "        clf.fit(Xtr, ytr)\n",
    "        m = _eval_val(clf, Xva, yva)\n",
    "        rows.append({\"model\":\"MultinomialNB\",\"alpha\":a, **m, \"clf\":clf})\n",
    "    best_macro = max(rows, key=lambda r: r[\"macro_f1\"])\n",
    "    best_acc   = max(rows, key=lambda r: r[\"acc\"])\n",
    "    table = pd.DataFrame([{k:v for k,v in r.items() if k!=\"clf\"} for r in rows]).sort_values(\"alpha\")\n",
    "    return best_macro, best_acc, table"
   ]
  },
  {
   "cell_type": "code",
   "execution_count": 11,
   "id": "62209a1b-3210-4d9a-af41-73d752cb8fa4",
   "metadata": {},
   "outputs": [
    {
     "name": "stdout",
     "output_type": "stream",
     "text": [
      "=== LinearSVC ===\n",
      "Best by macro-F1: macro-F1=0.5809, acc=0.5490, C=4.0\n",
      "Best by accuracy: acc=0.5490, macro-F1=0.5809, C=4.0\n",
      "\n",
      "=== LogisticRegression (saga, multinomial) ===\n",
      "Best by macro-F1: macro-F1=0.6443, acc=0.6373, C=0.5\n",
      "Best by accuracy: acc=0.6373, macro-F1=0.6440, C=0.25\n",
      "\n",
      "=== MultinomialNB ===\n",
      "Best by macro-F1: macro-F1=0.2281, acc=0.2745, alpha=0.1\n",
      "Best by accuracy: acc=0.2745, macro-F1=0.2281, alpha=0.1\n"
     ]
    }
   ],
   "source": [
    "# Run sweeps and print concise bests\n",
    "best_svm_macro, best_svm_acc, _ = sweep_linear_svc(Xtr, y_train, Xva, y_val)\n",
    "best_lr_macro,  best_lr_acc,  _ = sweep_logreg(Xtr, y_train, Xva, y_val)\n",
    "best_nb_macro,  best_nb_acc,  _ = sweep_nb(Xtr, y_train, Xva, y_val)\n",
    "\n",
    "print(\"=== LinearSVC ===\")\n",
    "print(f\"Best by macro-F1: macro-F1={best_svm_macro['macro_f1']:.4f}, acc={best_svm_macro['acc']:.4f}, C={best_svm_macro['C']}\")\n",
    "print(f\"Best by accuracy: acc={best_svm_acc['acc']:.4f}, macro-F1={best_svm_acc['macro_f1']:.4f}, C={best_svm_acc['C']}\")\n",
    "\n",
    "print(\"\\n=== LogisticRegression (saga, multinomial) ===\")\n",
    "print(f\"Best by macro-F1: macro-F1={best_lr_macro['macro_f1']:.4f}, acc={best_lr_macro['acc']:.4f}, C={best_lr_macro['C']}\")\n",
    "print(f\"Best by accuracy: acc={best_lr_acc['acc']:.4f}, macro-F1={best_lr_acc['macro_f1']:.4f}, C={best_lr_acc['C']}\")\n",
    "\n",
    "print(\"\\n=== MultinomialNB ===\")\n",
    "print(f\"Best by macro-F1: macro-F1={best_nb_macro['macro_f1']:.4f}, acc={best_nb_macro['acc']:.4f}, alpha={best_nb_macro['alpha']}\")\n",
    "print(f\"Best by accuracy: acc={best_nb_acc['acc']:.4f}, macro-F1={best_nb_acc['macro_f1']:.4f}, alpha={best_nb_acc['alpha']}\")"
   ]
  },
  {
   "cell_type": "markdown",
   "id": "cfa7e020-0786-4675-841b-a6ae541eb728",
   "metadata": {},
   "source": [
    "### Baseline Results\n",
    "\n",
    "Setup : TF-IDF (word 1–2 + char 3–6), balanced VAL/TEST, class weighting where applicable.\n",
    "\n",
    "Models tested:\n",
    "- **LinearSVC** → macro-F1 0.58, acc 0.54 (C=4.0).\n",
    "- **Logistic Regression** (saga, multinomial) → macro-F1 0.64, acc 0.63.\n",
    "- **MultinomialNB** → macro-F1 0.22, acc 0.27 (alpha=0.1).\n",
    "\n",
    "Logistic Regression is the strongest classical baseline here: it handles the sparse multilingual TF-IDF space well and benefits from class weighting; scores set a credible floor (~0.64 macro-F1)\n",
    "\n",
    "What this means:\n",
    "\n",
    "The task is **learnable** from surface features; TF-IDF already captures enough signal. Any Transformer we keep should beat ~0.64 macro-F1 on VAL to justify the complexity"
   ]
  },
  {
   "cell_type": "markdown",
   "id": "f80cf46f-6a56-4942-a25a-09f611d9c3e4",
   "metadata": {},
   "source": [
    "# 3️⃣ Transformer Model"
   ]
  },
  {
   "cell_type": "markdown",
   "id": "416043da-f8fc-4920-80b6-67b7581f87f9",
   "metadata": {},
   "source": [
    "Here I'll try to tune two multilingual encoders: XLM-RoBERTa base and mDeBERTa-v3 base.\n",
    " - Text. Use raw title + perex. MAX_LEN = 160. Dynamic padding via DataCollatorWithPadding.\n",
    " - Imbalance. Handle in training: WeightedRandomSampler (per-class inverse frequency) + CrossEntropy with label smoothing = 0.1\n",
    " - Fine-tuning. Partial unfreeze (top 4 encoder layers + classifier head). Two LRs: encoder 2e-5, head 1e-3, weight_decay=0.01, linear warmup 10%.\n",
    " - Training loop. Mixed precision (AMP), grad clipping, progress bars, early stopping by VAL macro-F1 (patience=3), max 10 epochs."
   ]
  },
  {
   "cell_type": "code",
   "execution_count": 12,
   "id": "bfe52d10-f704-43e5-be93-0baadd0644f9",
   "metadata": {},
   "outputs": [],
   "source": [
    "import os, math, time, numpy as np, torch, torch.nn as nn\n",
    "from collections import Counter\n",
    "from sklearn.metrics import accuracy_score, f1_score, classification_report\n",
    "from torch.optim import AdamW\n",
    "from torch.utils.data import Dataset, DataLoader, WeightedRandomSampler, SequentialSampler\n",
    "from transformers import (AutoTokenizer, AutoModelForSequenceClassification,\n",
    "                          DataCollatorWithPadding, get_linear_schedule_with_warmup)\n",
    "from torch.amp import GradScaler, autocast\n",
    "\n",
    "os.environ[\"HF_HUB_ENABLE_HF_TRANSFER\"] = \"1\"\n",
    "device = torch.device(\"cuda\" if torch.cuda.is_available() else \"cpu\")"
   ]
  },
  {
   "cell_type": "code",
   "execution_count": 13,
   "id": "fd8a46b9-5a58-42ad-8724-3669891c463e",
   "metadata": {},
   "outputs": [],
   "source": [
    "# Small dataset wrapper (tokenize on-the-fly; dynamic padding)\n",
    "class TextClsDataset(Dataset):\n",
    "    def __init__(self, texts, labels, tokenizer, max_len):\n",
    "        self.texts = texts.tolist()\n",
    "        self.labels = labels.tolist()\n",
    "        self.tok = tokenizer\n",
    "        self.max_len = max_len\n",
    "    def __len__(self): return len(self.texts)\n",
    "    def __getitem__(self, i):\n",
    "        enc = self.tok(\n",
    "            self.texts[i],\n",
    "            truncation=True,\n",
    "            max_length=self.max_len,\n",
    "            padding=False,  \n",
    "            return_attention_mask=True\n",
    "        )\n",
    "        enc[\"labels\"] = self.labels[i]\n",
    "        return enc"
   ]
  },
  {
   "cell_type": "code",
   "execution_count": 14,
   "id": "f98dadf0-d2bd-4217-9c4e-b27a19e53eec",
   "metadata": {},
   "outputs": [],
   "source": [
    "# Build loaders with dynamic padding + weighted sampler\n",
    "def build_loaders(model_name, max_len=160, batch_size=16):\n",
    "    # tokenizer + dynamic padding that returns torch tensors\n",
    "    tokenizer = AutoTokenizer.from_pretrained(model_name, use_fast=True)\n",
    "    collator  = DataCollatorWithPadding(tokenizer, pad_to_multiple_of=8, return_tensors=\"pt\")\n",
    "\n",
    "    train_ds  = TextClsDataset(train_df[\"text\"], train_df[\"label_id\"], tokenizer, max_len)\n",
    "    val_ds    = TextClsDataset(val_df[\"text\"],   val_df[\"label_id\"],   tokenizer, max_len)\n",
    "    test_ds   = TextClsDataset(test_df[\"text\"],  test_df[\"label_id\"],  tokenizer, max_len)\n",
    "\n",
    "    # weighted sampler (handles imbalance)\n",
    "    import numpy as np\n",
    "    from collections import Counter\n",
    "    y = np.array(train_df[\"label_id\"].values)\n",
    "    freq = Counter(y); class_w = {c: 1.0/f for c, f in freq.items()}\n",
    "    sample_w = np.array([class_w[c] for c in y], dtype=np.float32)\n",
    "    sampler  = WeightedRandomSampler(weights=sample_w, num_samples=len(sample_w), replacement=True)\n",
    "\n",
    "    train_loader = DataLoader(\n",
    "        train_ds, batch_size=batch_size, sampler=sampler,\n",
    "        collate_fn=collator, num_workers=0, pin_memory=False\n",
    "    )\n",
    "    val_loader = DataLoader(\n",
    "        val_ds, batch_size=batch_size, sampler=SequentialSampler(val_ds),\n",
    "        collate_fn=collator, num_workers=0, pin_memory=False\n",
    "    )\n",
    "    test_loader = DataLoader(\n",
    "        test_ds, batch_size=batch_size, sampler=SequentialSampler(test_ds),\n",
    "        collate_fn=collator, num_workers=0, pin_memory=False\n",
    "    )\n",
    "    num_labels = int(train_df[\"label_id\"].nunique())\n",
    "    return tokenizer, train_loader, val_loader, test_loader, num_labels"
   ]
  },
  {
   "cell_type": "code",
   "execution_count": 15,
   "id": "47939f40-cfa7-4214-80f4-4ac42cdfb2bd",
   "metadata": {},
   "outputs": [],
   "source": [
    "# Partial unfreeze (last N encoder layers) + optimizer with two LRs\n",
    "def prepare_model(model_name, num_labels, unfreeze_last_n=4, enc_lr=2e-5, head_lr=1e-3, wd=0.01):\n",
    "    model = AutoModelForSequenceClassification.from_pretrained(\n",
    "        model_name, num_labels=num_labels, use_safetensors=True\n",
    "    ).to(device)\n",
    "\n",
    "    # Freeze all encoder; then unfreeze last N layers\n",
    "    if hasattr(model, \"roberta\"):\n",
    "        # XLM-R\n",
    "        for p in model.roberta.parameters(): p.requires_grad = False\n",
    "        layers = model.roberta.encoder.layer\n",
    "    elif hasattr(model, \"deberta\"):\n",
    "        # mDeBERTa\n",
    "        for p in model.deberta.parameters(): p.requires_grad = False\n",
    "        layers = model.deberta.encoder.layer\n",
    "    else:\n",
    "        raise ValueError(\"Unknown encoder attr (expected .roberta or .deberta)\")\n",
    "\n",
    "    for layer in layers[-unfreeze_last_n:]:\n",
    "        for p in layer.parameters():\n",
    "            p.requires_grad = True\n",
    "\n",
    "    head_params = list(model.classifier.parameters())\n",
    "    for p in head_params: p.requires_grad = True\n",
    "\n",
    "    # Build optimizer with 2 param groups\n",
    "    enc_params = []\n",
    "    for layer in layers[-unfreeze_last_n:]:\n",
    "        enc_params += list(layer.parameters())\n",
    "\n",
    "    optimizer = AdamW([\n",
    "        {\"params\": enc_params, \"lr\": enc_lr, \"weight_decay\": wd},\n",
    "        {\"params\": head_params, \"lr\": head_lr, \"weight_decay\": wd},\n",
    "    ])\n",
    "\n",
    "    return model, optimizer\n"
   ]
  },
  {
   "cell_type": "code",
   "execution_count": 16,
   "id": "634415c6-abad-4fdb-82b1-149aee7af067",
   "metadata": {},
   "outputs": [],
   "source": [
    "# Train/eval with label smoothing + early stopping (by macro-F1)\n",
    "from tqdm.auto import tqdm, trange\n",
    "from torch.amp import GradScaler, autocast\n",
    "import torch.nn as nn\n",
    "from sklearn.metrics import accuracy_score, f1_score\n",
    "from transformers import get_linear_schedule_with_warmup\n",
    "\n",
    "def train_model(model_name, run_name, max_len=160, batch_size=16, epochs=10, patience=3,\n",
    "                unfreeze_last_n=4, enc_lr=2e-5, head_lr=1e-3, wd=0.01, warmup_ratio=0.1, label_smooth=0.1):\n",
    "    # Tokenizer + loaders\n",
    "    tokenizer, train_loader, val_loader, test_loader, num_labels = build_loaders(\n",
    "        model_name, max_len=max_len, batch_size=batch_size\n",
    "    )\n",
    "    # Model + optimizer\n",
    "    model, optimizer = prepare_model(\n",
    "        model_name, num_labels,\n",
    "        unfreeze_last_n=unfreeze_last_n, enc_lr=enc_lr, head_lr=head_lr, wd=wd\n",
    "    )\n",
    "\n",
    "    total_steps = len(train_loader) * epochs\n",
    "    scheduler = get_linear_schedule_with_warmup(\n",
    "        optimizer, num_warmup_steps=int(warmup_ratio * total_steps), num_training_steps=total_steps\n",
    "    )\n",
    "    criterion = nn.CrossEntropyLoss(label_smoothing=label_smooth)\n",
    "\n",
    "    amp_enabled = torch.cuda.is_available()\n",
    "    scaler = GradScaler('cuda', enabled=amp_enabled)\n",
    "\n",
    "    best_dir = f\"{run_name}_best\"\n",
    "    os.makedirs(best_dir, exist_ok=True)\n",
    "    best_f1, no_improve = -1.0, 0\n",
    "\n",
    "    def _eval(loader, desc=\"val\"):\n",
    "        model.eval()\n",
    "        loss_sum, gold, pred = 0.0, [], []\n",
    "        with torch.no_grad():\n",
    "            for batch in tqdm(loader, desc=f\"[{run_name}] {desc}\", leave=False):\n",
    "                input_ids = batch[\"input_ids\"].to(device, non_blocking=False)\n",
    "                attn_mask = batch[\"attention_mask\"].to(device, non_blocking=False)\n",
    "                labels    = batch[\"labels\"].to(device, non_blocking=False)\n",
    "                with autocast('cuda', enabled=amp_enabled):\n",
    "                    out = model(input_ids=input_ids, attention_mask=attn_mask)\n",
    "                    loss = criterion(out.logits, labels)\n",
    "                loss_sum += loss.item()\n",
    "                pred.extend(out.logits.argmax(dim=1).detach().cpu().numpy().tolist())\n",
    "                gold.extend(labels.detach().cpu().numpy().tolist())\n",
    "        acc = accuracy_score(gold, pred)\n",
    "        f1m = f1_score(gold, pred, average=\"macro\")\n",
    "        return loss_sum / max(1, len(loader)), acc, f1m\n",
    "\n",
    "    for epoch in trange(1, epochs+1, desc=f\"[{run_name}] epochs\", leave=True):\n",
    "        model.train()\n",
    "        running_loss = 0.0\n",
    "        batch_bar = tqdm(train_loader, desc=f\"[{run_name}] train {epoch}/{epochs}\", leave=False)\n",
    "        for i, batch in enumerate(batch_bar, 1):\n",
    "            input_ids = batch[\"input_ids\"].to(device, non_blocking=False)\n",
    "            attn_mask = batch[\"attention_mask\"].to(device, non_blocking=False)\n",
    "            labels    = batch[\"labels\"].to(device, non_blocking=False)\n",
    "\n",
    "            optimizer.zero_grad(set_to_none=True)\n",
    "            with autocast('cuda', enabled=amp_enabled):\n",
    "                out  = model(input_ids=input_ids, attention_mask=attn_mask)\n",
    "                loss = criterion(out.logits, labels)\n",
    "\n",
    "            scaler.scale(loss).backward()\n",
    "            torch.nn.utils.clip_grad_norm_(model.parameters(), 1.0)\n",
    "            scaler.step(optimizer); scaler.update()\n",
    "            scheduler.step()\n",
    "\n",
    "            running_loss += loss.item()\n",
    "            lr_now = scheduler.get_last_lr()[0]\n",
    "            batch_bar.set_postfix(loss=f\"{running_loss/i:.4f}\", lr=f\"{lr_now:.2e}\")\n",
    "\n",
    "        va_loss, va_acc, va_f1 = _eval(val_loader, desc=f\"val {epoch}/{epochs}\")\n",
    "        tqdm.write(f\"[{run_name}] Epoch {epoch}/{epochs} | train_loss={running_loss/len(train_loader):.4f} \"\n",
    "                   f\"| val_loss={va_loss:.4f} | val_acc={va_acc:.4f} | val_macroF1={va_f1:.4f}\")\n",
    "\n",
    "        if va_f1 > best_f1:\n",
    "            best_f1, no_improve = va_f1, 0\n",
    "            model.save_pretrained(best_dir, safe_serialization=True)\n",
    "            tqdm.write(f\"** saved best → {best_dir} (macro-F1={best_f1:.4f})\")\n",
    "        else:\n",
    "            no_improve += 1\n",
    "            if no_improve >= patience:\n",
    "                tqdm.write(f\"[{run_name}] Early stopping (no improvement {patience} epochs).\")\n",
    "                break\n",
    "\n",
    "    return best_dir, best_f1"
   ]
  },
  {
   "cell_type": "code",
   "execution_count": 17,
   "id": "95cce762-8b57-46d8-92a7-9a00730eb45a",
   "metadata": {},
   "outputs": [
    {
     "data": {
      "application/vnd.jupyter.widget-view+json": {
       "model_id": "e60e6fda2cc746858ea781e7f18ef425",
       "version_major": 2,
       "version_minor": 0
      },
      "text/plain": [
       "[xlmr_end2end] epochs:   0%|          | 0/10 [00:00<?, ?it/s]"
      ]
     },
     "metadata": {},
     "output_type": "display_data"
    },
    {
     "data": {
      "application/vnd.jupyter.widget-view+json": {
       "model_id": "0d231ee646de4faf9c14352d277f1a5f",
       "version_major": 2,
       "version_minor": 0
      },
      "text/plain": [
       "[xlmr_end2end] train 1/10:   0%|          | 0/80 [00:00<?, ?it/s]"
      ]
     },
     "metadata": {},
     "output_type": "display_data"
    },
    {
     "data": {
      "application/vnd.jupyter.widget-view+json": {
       "model_id": "914bcdf129cc4419835e397b5613c828",
       "version_major": 2,
       "version_minor": 0
      },
      "text/plain": [
       "[xlmr_end2end] val 1/10:   0%|          | 0/7 [00:00<?, ?it/s]"
      ]
     },
     "metadata": {},
     "output_type": "display_data"
    },
    {
     "name": "stdout",
     "output_type": "stream",
     "text": [
      "[xlmr_end2end] Epoch 1/10 | train_loss=1.5567 | val_loss=1.1569 | val_acc=0.7059 | val_macroF1=0.6913\n",
      "** saved best → xlmr_end2end_best (macro-F1=0.6913)\n"
     ]
    },
    {
     "data": {
      "application/vnd.jupyter.widget-view+json": {
       "model_id": "3470af5b255047548ff938ce85239d05",
       "version_major": 2,
       "version_minor": 0
      },
      "text/plain": [
       "[xlmr_end2end] train 2/10:   0%|          | 0/80 [00:00<?, ?it/s]"
      ]
     },
     "metadata": {},
     "output_type": "display_data"
    },
    {
     "data": {
      "application/vnd.jupyter.widget-view+json": {
       "model_id": "d276c54a99de4402b9e1a75b6784c59f",
       "version_major": 2,
       "version_minor": 0
      },
      "text/plain": [
       "[xlmr_end2end] val 2/10:   0%|          | 0/7 [00:00<?, ?it/s]"
      ]
     },
     "metadata": {},
     "output_type": "display_data"
    },
    {
     "name": "stdout",
     "output_type": "stream",
     "text": [
      "[xlmr_end2end] Epoch 2/10 | train_loss=0.9730 | val_loss=1.0274 | val_acc=0.7451 | val_macroF1=0.7395\n",
      "** saved best → xlmr_end2end_best (macro-F1=0.7395)\n"
     ]
    },
    {
     "data": {
      "application/vnd.jupyter.widget-view+json": {
       "model_id": "2d842ac5db744e07bebbe14ab0570d55",
       "version_major": 2,
       "version_minor": 0
      },
      "text/plain": [
       "[xlmr_end2end] train 3/10:   0%|          | 0/80 [00:00<?, ?it/s]"
      ]
     },
     "metadata": {},
     "output_type": "display_data"
    },
    {
     "data": {
      "application/vnd.jupyter.widget-view+json": {
       "model_id": "145e7d83b49646568892bd0b78ebd06b",
       "version_major": 2,
       "version_minor": 0
      },
      "text/plain": [
       "[xlmr_end2end] val 3/10:   0%|          | 0/7 [00:00<?, ?it/s]"
      ]
     },
     "metadata": {},
     "output_type": "display_data"
    },
    {
     "name": "stdout",
     "output_type": "stream",
     "text": [
      "[xlmr_end2end] Epoch 3/10 | train_loss=0.7697 | val_loss=1.0089 | val_acc=0.7843 | val_macroF1=0.7806\n",
      "** saved best → xlmr_end2end_best (macro-F1=0.7806)\n"
     ]
    },
    {
     "data": {
      "application/vnd.jupyter.widget-view+json": {
       "model_id": "ab2414c57e3b4a618138d8d82a00fa9a",
       "version_major": 2,
       "version_minor": 0
      },
      "text/plain": [
       "[xlmr_end2end] train 4/10:   0%|          | 0/80 [00:00<?, ?it/s]"
      ]
     },
     "metadata": {},
     "output_type": "display_data"
    },
    {
     "data": {
      "application/vnd.jupyter.widget-view+json": {
       "model_id": "640073e4fd0e4cf08257ad44cfb75d8c",
       "version_major": 2,
       "version_minor": 0
      },
      "text/plain": [
       "[xlmr_end2end] val 4/10:   0%|          | 0/7 [00:00<?, ?it/s]"
      ]
     },
     "metadata": {},
     "output_type": "display_data"
    },
    {
     "name": "stdout",
     "output_type": "stream",
     "text": [
      "[xlmr_end2end] Epoch 4/10 | train_loss=0.6528 | val_loss=1.0295 | val_acc=0.7941 | val_macroF1=0.7883\n",
      "** saved best → xlmr_end2end_best (macro-F1=0.7883)\n"
     ]
    },
    {
     "data": {
      "application/vnd.jupyter.widget-view+json": {
       "model_id": "b77bd88c08c1430996d62ff656d0ea47",
       "version_major": 2,
       "version_minor": 0
      },
      "text/plain": [
       "[xlmr_end2end] train 5/10:   0%|          | 0/80 [00:00<?, ?it/s]"
      ]
     },
     "metadata": {},
     "output_type": "display_data"
    },
    {
     "data": {
      "application/vnd.jupyter.widget-view+json": {
       "model_id": "89b551bda77f4a16904c019e1544b7db",
       "version_major": 2,
       "version_minor": 0
      },
      "text/plain": [
       "[xlmr_end2end] val 5/10:   0%|          | 0/7 [00:00<?, ?it/s]"
      ]
     },
     "metadata": {},
     "output_type": "display_data"
    },
    {
     "name": "stdout",
     "output_type": "stream",
     "text": [
      "[xlmr_end2end] Epoch 5/10 | train_loss=0.5989 | val_loss=0.9395 | val_acc=0.7941 | val_macroF1=0.7918\n",
      "** saved best → xlmr_end2end_best (macro-F1=0.7918)\n"
     ]
    },
    {
     "data": {
      "application/vnd.jupyter.widget-view+json": {
       "model_id": "086b347ce45d4e9ea4cc9e41fa27315b",
       "version_major": 2,
       "version_minor": 0
      },
      "text/plain": [
       "[xlmr_end2end] train 6/10:   0%|          | 0/80 [00:00<?, ?it/s]"
      ]
     },
     "metadata": {},
     "output_type": "display_data"
    },
    {
     "data": {
      "application/vnd.jupyter.widget-view+json": {
       "model_id": "ec042ee82a5d45fb9188b406d6c7d275",
       "version_major": 2,
       "version_minor": 0
      },
      "text/plain": [
       "[xlmr_end2end] val 6/10:   0%|          | 0/7 [00:00<?, ?it/s]"
      ]
     },
     "metadata": {},
     "output_type": "display_data"
    },
    {
     "name": "stdout",
     "output_type": "stream",
     "text": [
      "[xlmr_end2end] Epoch 6/10 | train_loss=0.5566 | val_loss=0.9688 | val_acc=0.7941 | val_macroF1=0.7895\n"
     ]
    },
    {
     "data": {
      "application/vnd.jupyter.widget-view+json": {
       "model_id": "bad6d631560c4a42b7901739a11a34f3",
       "version_major": 2,
       "version_minor": 0
      },
      "text/plain": [
       "[xlmr_end2end] train 7/10:   0%|          | 0/80 [00:00<?, ?it/s]"
      ]
     },
     "metadata": {},
     "output_type": "display_data"
    },
    {
     "data": {
      "application/vnd.jupyter.widget-view+json": {
       "model_id": "75aaba71c7204076bb506e1f3737a50c",
       "version_major": 2,
       "version_minor": 0
      },
      "text/plain": [
       "[xlmr_end2end] val 7/10:   0%|          | 0/7 [00:00<?, ?it/s]"
      ]
     },
     "metadata": {},
     "output_type": "display_data"
    },
    {
     "name": "stdout",
     "output_type": "stream",
     "text": [
      "[xlmr_end2end] Epoch 7/10 | train_loss=0.5162 | val_loss=0.9334 | val_acc=0.7843 | val_macroF1=0.7841\n"
     ]
    },
    {
     "data": {
      "application/vnd.jupyter.widget-view+json": {
       "model_id": "9527e69b23194f82b8297e45d499c1ec",
       "version_major": 2,
       "version_minor": 0
      },
      "text/plain": [
       "[xlmr_end2end] train 8/10:   0%|          | 0/80 [00:00<?, ?it/s]"
      ]
     },
     "metadata": {},
     "output_type": "display_data"
    },
    {
     "data": {
      "application/vnd.jupyter.widget-view+json": {
       "model_id": "f5937d19618447528d9768edace935ac",
       "version_major": 2,
       "version_minor": 0
      },
      "text/plain": [
       "[xlmr_end2end] val 8/10:   0%|          | 0/7 [00:00<?, ?it/s]"
      ]
     },
     "metadata": {},
     "output_type": "display_data"
    },
    {
     "name": "stdout",
     "output_type": "stream",
     "text": [
      "[xlmr_end2end] Epoch 8/10 | train_loss=0.4915 | val_loss=0.8930 | val_acc=0.8235 | val_macroF1=0.8256\n",
      "** saved best → xlmr_end2end_best (macro-F1=0.8256)\n"
     ]
    },
    {
     "data": {
      "application/vnd.jupyter.widget-view+json": {
       "model_id": "354812033a9b4bf0a3ce3c59c692ab35",
       "version_major": 2,
       "version_minor": 0
      },
      "text/plain": [
       "[xlmr_end2end] train 9/10:   0%|          | 0/80 [00:00<?, ?it/s]"
      ]
     },
     "metadata": {},
     "output_type": "display_data"
    },
    {
     "data": {
      "application/vnd.jupyter.widget-view+json": {
       "model_id": "e15ddfbe2c4e460096617ef56b6bc9a6",
       "version_major": 2,
       "version_minor": 0
      },
      "text/plain": [
       "[xlmr_end2end] val 9/10:   0%|          | 0/7 [00:00<?, ?it/s]"
      ]
     },
     "metadata": {},
     "output_type": "display_data"
    },
    {
     "name": "stdout",
     "output_type": "stream",
     "text": [
      "[xlmr_end2end] Epoch 9/10 | train_loss=0.4973 | val_loss=0.8805 | val_acc=0.8039 | val_macroF1=0.8084\n"
     ]
    },
    {
     "data": {
      "application/vnd.jupyter.widget-view+json": {
       "model_id": "14a6facde6d5436d82ef38bcc79b7843",
       "version_major": 2,
       "version_minor": 0
      },
      "text/plain": [
       "[xlmr_end2end] train 10/10:   0%|          | 0/80 [00:00<?, ?it/s]"
      ]
     },
     "metadata": {},
     "output_type": "display_data"
    },
    {
     "data": {
      "application/vnd.jupyter.widget-view+json": {
       "model_id": "2b07d898fbc04177afd24c2782713cf6",
       "version_major": 2,
       "version_minor": 0
      },
      "text/plain": [
       "[xlmr_end2end] val 10/10:   0%|          | 0/7 [00:00<?, ?it/s]"
      ]
     },
     "metadata": {},
     "output_type": "display_data"
    },
    {
     "name": "stdout",
     "output_type": "stream",
     "text": [
      "[xlmr_end2end] Epoch 10/10 | train_loss=0.4766 | val_loss=0.8537 | val_acc=0.8333 | val_macroF1=0.8346\n",
      "** saved best → xlmr_end2end_best (macro-F1=0.8346)\n"
     ]
    },
    {
     "data": {
      "application/vnd.jupyter.widget-view+json": {
       "model_id": "76dc48aaec10462c8d9ce5b3f9c2d50e",
       "version_major": 2,
       "version_minor": 0
      },
      "text/plain": [
       "[mdeberta_end2end] epochs:   0%|          | 0/10 [00:00<?, ?it/s]"
      ]
     },
     "metadata": {},
     "output_type": "display_data"
    },
    {
     "data": {
      "application/vnd.jupyter.widget-view+json": {
       "model_id": "5afb9cf9db0948348ee1ca71f9a557e2",
       "version_major": 2,
       "version_minor": 0
      },
      "text/plain": [
       "[mdeberta_end2end] train 1/10:   0%|          | 0/80 [00:00<?, ?it/s]"
      ]
     },
     "metadata": {},
     "output_type": "display_data"
    },
    {
     "data": {
      "application/vnd.jupyter.widget-view+json": {
       "model_id": "6cb5b328b6de49f8913b0dccabe91b9d",
       "version_major": 2,
       "version_minor": 0
      },
      "text/plain": [
       "[mdeberta_end2end] val 1/10:   0%|          | 0/7 [00:00<?, ?it/s]"
      ]
     },
     "metadata": {},
     "output_type": "display_data"
    },
    {
     "name": "stdout",
     "output_type": "stream",
     "text": [
      "[mdeberta_end2end] Epoch 1/10 | train_loss=1.7671 | val_loss=1.6300 | val_acc=0.3431 | val_macroF1=0.2448\n",
      "** saved best → mdeberta_end2end_best (macro-F1=0.2448)\n"
     ]
    },
    {
     "data": {
      "application/vnd.jupyter.widget-view+json": {
       "model_id": "b8bba8d19fa74f26a89d3db05e0b10fe",
       "version_major": 2,
       "version_minor": 0
      },
      "text/plain": [
       "[mdeberta_end2end] train 2/10:   0%|          | 0/80 [00:00<?, ?it/s]"
      ]
     },
     "metadata": {},
     "output_type": "display_data"
    },
    {
     "data": {
      "application/vnd.jupyter.widget-view+json": {
       "model_id": "de1c0ce9e018441d80be812cdf604186",
       "version_major": 2,
       "version_minor": 0
      },
      "text/plain": [
       "[mdeberta_end2end] val 2/10:   0%|          | 0/7 [00:00<?, ?it/s]"
      ]
     },
     "metadata": {},
     "output_type": "display_data"
    },
    {
     "name": "stdout",
     "output_type": "stream",
     "text": [
      "[mdeberta_end2end] Epoch 2/10 | train_loss=1.3649 | val_loss=1.4928 | val_acc=0.4902 | val_macroF1=0.4744\n",
      "** saved best → mdeberta_end2end_best (macro-F1=0.4744)\n"
     ]
    },
    {
     "data": {
      "application/vnd.jupyter.widget-view+json": {
       "model_id": "200b165101104fce9e836ede50e51aa3",
       "version_major": 2,
       "version_minor": 0
      },
      "text/plain": [
       "[mdeberta_end2end] train 3/10:   0%|          | 0/80 [00:00<?, ?it/s]"
      ]
     },
     "metadata": {},
     "output_type": "display_data"
    },
    {
     "data": {
      "application/vnd.jupyter.widget-view+json": {
       "model_id": "f14a18e727e24767a671c024f61cdb08",
       "version_major": 2,
       "version_minor": 0
      },
      "text/plain": [
       "[mdeberta_end2end] val 3/10:   0%|          | 0/7 [00:00<?, ?it/s]"
      ]
     },
     "metadata": {},
     "output_type": "display_data"
    },
    {
     "name": "stdout",
     "output_type": "stream",
     "text": [
      "[mdeberta_end2end] Epoch 3/10 | train_loss=1.0289 | val_loss=1.3136 | val_acc=0.5980 | val_macroF1=0.5698\n",
      "** saved best → mdeberta_end2end_best (macro-F1=0.5698)\n"
     ]
    },
    {
     "data": {
      "application/vnd.jupyter.widget-view+json": {
       "model_id": "a9a30c79c3d74bfc80a937ef3f78d558",
       "version_major": 2,
       "version_minor": 0
      },
      "text/plain": [
       "[mdeberta_end2end] train 4/10:   0%|          | 0/80 [00:00<?, ?it/s]"
      ]
     },
     "metadata": {},
     "output_type": "display_data"
    },
    {
     "data": {
      "application/vnd.jupyter.widget-view+json": {
       "model_id": "3638ba3a2ac345b29ac65f9f83c932dc",
       "version_major": 2,
       "version_minor": 0
      },
      "text/plain": [
       "[mdeberta_end2end] val 4/10:   0%|          | 0/7 [00:00<?, ?it/s]"
      ]
     },
     "metadata": {},
     "output_type": "display_data"
    },
    {
     "name": "stdout",
     "output_type": "stream",
     "text": [
      "[mdeberta_end2end] Epoch 4/10 | train_loss=0.7066 | val_loss=1.2097 | val_acc=0.7059 | val_macroF1=0.7103\n",
      "** saved best → mdeberta_end2end_best (macro-F1=0.7103)\n"
     ]
    },
    {
     "data": {
      "application/vnd.jupyter.widget-view+json": {
       "model_id": "0dc22dcf58d94ff882900e59c0b59f31",
       "version_major": 2,
       "version_minor": 0
      },
      "text/plain": [
       "[mdeberta_end2end] train 5/10:   0%|          | 0/80 [00:00<?, ?it/s]"
      ]
     },
     "metadata": {},
     "output_type": "display_data"
    },
    {
     "data": {
      "application/vnd.jupyter.widget-view+json": {
       "model_id": "1e3a71e02af8417d82b47bbf7d83b25d",
       "version_major": 2,
       "version_minor": 0
      },
      "text/plain": [
       "[mdeberta_end2end] val 5/10:   0%|          | 0/7 [00:00<?, ?it/s]"
      ]
     },
     "metadata": {},
     "output_type": "display_data"
    },
    {
     "name": "stdout",
     "output_type": "stream",
     "text": [
      "[mdeberta_end2end] Epoch 5/10 | train_loss=0.6083 | val_loss=1.2190 | val_acc=0.6765 | val_macroF1=0.6833\n"
     ]
    },
    {
     "data": {
      "application/vnd.jupyter.widget-view+json": {
       "model_id": "f3466ae64b3b4ee28ff09d41dd1cc10b",
       "version_major": 2,
       "version_minor": 0
      },
      "text/plain": [
       "[mdeberta_end2end] train 6/10:   0%|          | 0/80 [00:00<?, ?it/s]"
      ]
     },
     "metadata": {},
     "output_type": "display_data"
    },
    {
     "data": {
      "application/vnd.jupyter.widget-view+json": {
       "model_id": "7303832a3c174996b155a8338316d2d1",
       "version_major": 2,
       "version_minor": 0
      },
      "text/plain": [
       "[mdeberta_end2end] val 6/10:   0%|          | 0/7 [00:00<?, ?it/s]"
      ]
     },
     "metadata": {},
     "output_type": "display_data"
    },
    {
     "name": "stdout",
     "output_type": "stream",
     "text": [
      "[mdeberta_end2end] Epoch 6/10 | train_loss=0.5742 | val_loss=1.1684 | val_acc=0.7647 | val_macroF1=0.7623\n",
      "** saved best → mdeberta_end2end_best (macro-F1=0.7623)\n"
     ]
    },
    {
     "data": {
      "application/vnd.jupyter.widget-view+json": {
       "model_id": "f55e630f415e4befb11f2e8c98d4d519",
       "version_major": 2,
       "version_minor": 0
      },
      "text/plain": [
       "[mdeberta_end2end] train 7/10:   0%|          | 0/80 [00:00<?, ?it/s]"
      ]
     },
     "metadata": {},
     "output_type": "display_data"
    },
    {
     "data": {
      "application/vnd.jupyter.widget-view+json": {
       "model_id": "2b62503029354b8fbf6a68733b8a89fd",
       "version_major": 2,
       "version_minor": 0
      },
      "text/plain": [
       "[mdeberta_end2end] val 7/10:   0%|          | 0/7 [00:00<?, ?it/s]"
      ]
     },
     "metadata": {},
     "output_type": "display_data"
    },
    {
     "name": "stdout",
     "output_type": "stream",
     "text": [
      "[mdeberta_end2end] Epoch 7/10 | train_loss=0.5515 | val_loss=1.2491 | val_acc=0.6667 | val_macroF1=0.6789\n"
     ]
    },
    {
     "data": {
      "application/vnd.jupyter.widget-view+json": {
       "model_id": "aa6bfe1494ca4b9783c16edc1249bc18",
       "version_major": 2,
       "version_minor": 0
      },
      "text/plain": [
       "[mdeberta_end2end] train 8/10:   0%|          | 0/80 [00:00<?, ?it/s]"
      ]
     },
     "metadata": {},
     "output_type": "display_data"
    },
    {
     "data": {
      "application/vnd.jupyter.widget-view+json": {
       "model_id": "bf3e967ec4804797a9d1c132948a1642",
       "version_major": 2,
       "version_minor": 0
      },
      "text/plain": [
       "[mdeberta_end2end] val 8/10:   0%|          | 0/7 [00:00<?, ?it/s]"
      ]
     },
     "metadata": {},
     "output_type": "display_data"
    },
    {
     "name": "stdout",
     "output_type": "stream",
     "text": [
      "[mdeberta_end2end] Epoch 8/10 | train_loss=0.5196 | val_loss=1.2004 | val_acc=0.7157 | val_macroF1=0.7212\n"
     ]
    },
    {
     "data": {
      "application/vnd.jupyter.widget-view+json": {
       "model_id": "4c87b122e5f5410e9e509b5e7bd55d8a",
       "version_major": 2,
       "version_minor": 0
      },
      "text/plain": [
       "[mdeberta_end2end] train 9/10:   0%|          | 0/80 [00:00<?, ?it/s]"
      ]
     },
     "metadata": {},
     "output_type": "display_data"
    },
    {
     "data": {
      "application/vnd.jupyter.widget-view+json": {
       "model_id": "36b09d447df04c92be5f9ad9814ac15f",
       "version_major": 2,
       "version_minor": 0
      },
      "text/plain": [
       "[mdeberta_end2end] val 9/10:   0%|          | 0/7 [00:00<?, ?it/s]"
      ]
     },
     "metadata": {},
     "output_type": "display_data"
    },
    {
     "name": "stdout",
     "output_type": "stream",
     "text": [
      "[mdeberta_end2end] Epoch 9/10 | train_loss=0.5013 | val_loss=1.2730 | val_acc=0.6569 | val_macroF1=0.6649\n",
      "[mdeberta_end2end] Early stopping (no improvement 3 epochs).\n",
      "\n",
      "Best VAL macro-F1 → XLM-R: 0.8346 @ xlmr_end2end_best | mDeBERTa: 0.7623 @ mdeberta_end2end_best\n"
     ]
    }
   ],
   "source": [
    "# Run both models\n",
    "MAX_LEN = 160\n",
    "BATCH   = 16\n",
    "EPOCHS  = 10\n",
    "PATIENCE= 3\n",
    "\n",
    "# XLM-RoBERTa end-to-end\n",
    "xlmr_dir, xlmr_f1 = train_model(\n",
    "    model_name=\"xlm-roberta-base\",\n",
    "    run_name=\"xlmr_end2end\",\n",
    "    max_len=MAX_LEN, batch_size=BATCH,\n",
    "    epochs=EPOCHS, patience=PATIENCE,\n",
    "    unfreeze_last_n=4, enc_lr=2e-5, head_lr=1e-3, wd=0.01, warmup_ratio=0.10, label_smooth=0.10\n",
    ")\n",
    "\n",
    "# mDeBERTa-v3-base end-to-end\n",
    "mdeb_dir, mdeb_f1 = train_model(\n",
    "    model_name=\"microsoft/mdeberta-v3-base\",\n",
    "    run_name=\"mdeberta_end2end\",\n",
    "    max_len=MAX_LEN, batch_size=BATCH,\n",
    "    epochs=EPOCHS, patience=PATIENCE,\n",
    "    unfreeze_last_n=4, enc_lr=2e-5, head_lr=1e-3, wd=0.01, warmup_ratio=0.10, label_smooth=0.10\n",
    ")\n",
    "\n",
    "print(f\"\\nBest VAL macro-F1 → XLM-R: {xlmr_f1:.4f} @ {xlmr_dir} | mDeBERTa: {mdeb_f1:.4f} @ {mdeb_dir}\")"
   ]
  },
  {
   "cell_type": "markdown",
   "id": "a2693245-6f83-4c01-985f-578ccd4927a8",
   "metadata": {},
   "source": [
    "Chosen XLM-RoBERTa base as the final model."
   ]
  },
  {
   "cell_type": "markdown",
   "id": "6649f866-1701-4372-8d91-b35d0a16d7e5",
   "metadata": {},
   "source": [
    "# 4️⃣Evaluation"
   ]
  },
  {
   "cell_type": "markdown",
   "id": "20ebbfe1-16ca-425a-b435-d3f3b6d7bc6f",
   "metadata": {},
   "source": [
    "Here I'll evaluate my final model on TEST."
   ]
  },
  {
   "cell_type": "code",
   "execution_count": 18,
   "id": "717f0f01-b6dd-46d3-b64c-3880a72c06bd",
   "metadata": {},
   "outputs": [
    {
     "name": "stdout",
     "output_type": "stream",
     "text": [
      "Loading best: xlmr_end2end_best\n",
      "TEST acc: 0.7352941176470589\n",
      "TEST macro-F1: 0.7299774774774775\n",
      "              precision    recall  f1-score   support\n",
      "\n",
      "    Injuries       1.00      0.76      0.87        17\n",
      "   Interview       0.62      0.29      0.40        17\n",
      "   Pre-Match       0.85      0.65      0.73        17\n",
      "    Reaction       0.48      0.94      0.64        17\n",
      "      Report       0.93      0.82      0.88        17\n",
      "   Transfers       0.80      0.94      0.86        17\n",
      "\n",
      "    accuracy                           0.74       102\n",
      "   macro avg       0.78      0.74      0.73       102\n",
      "weighted avg       0.78      0.74      0.73       102\n",
      "\n"
     ]
    }
   ],
   "source": [
    "# TEST evaluation\n",
    "\n",
    "import os, torch, numpy as np, pandas as pd, matplotlib.pyplot as plt\n",
    "import torch.nn.functional as F\n",
    "from torch.utils.data import DataLoader, SequentialSampler\n",
    "from sklearn.metrics import accuracy_score, f1_score, classification_report, confusion_matrix, ConfusionMatrixDisplay\n",
    "from transformers import AutoConfig, AutoTokenizer, AutoModelForSequenceClassification, DataCollatorWithPadding\n",
    "\n",
    "WIN_DIR = \"xlmr_end2end_best\"\n",
    "print(\"Loading best:\", WIN_DIR)\n",
    "\n",
    "# Load model\n",
    "model = AutoModelForSequenceClassification.from_pretrained(WIN_DIR, use_safetensors=True).to(device)\n",
    "model.eval()\n",
    "\n",
    "cfg = AutoConfig.from_pretrained(WIN_DIR)\n",
    "model_type = getattr(cfg, \"model_type\", \"\") or \"\"\n",
    "if \"deberta\" in model_type:\n",
    "    base_ckpt = \"microsoft/mdeberta-v3-base\"\n",
    "else:\n",
    "    base_ckpt = \"xlm-roberta-base\"\n",
    "\n",
    "# Load tokenizer from base\n",
    "tok = None\n",
    "for use_fast in (True, False):\n",
    "    try:\n",
    "        tok = AutoTokenizer.from_pretrained(base_ckpt, use_fast=use_fast)\n",
    "        break\n",
    "    except Exception as e:\n",
    "        last_err = e\n",
    "if tok is None:\n",
    "    raise RuntimeError(f\"Failed to load tokenizer for base '{base_ckpt}'. Last error: {last_err}\")\n",
    "\n",
    "tok.save_pretrained(WIN_DIR)\n",
    "tokenizer = tok\n",
    "\n",
    "# Build TEST loader (dynamic padding → tensors)\n",
    "collator = DataCollatorWithPadding(tokenizer, pad_to_multiple_of=8, return_tensors=\"pt\")\n",
    "test_ds  = TextClsDataset(test_df[\"text\"], test_df[\"label_id\"], tokenizer, max_len=MAX_LEN)\n",
    "test_loader = DataLoader(test_ds, batch_size=BATCH, sampler=SequentialSampler(test_ds),\n",
    "                         collate_fn=collator, num_workers=0, pin_memory=False)\n",
    "\n",
    "# Inference on TEST\n",
    "preds, gold, max_confs = [], [], []\n",
    "with torch.no_grad():\n",
    "    for batch in test_loader:\n",
    "        input_ids = batch[\"input_ids\"].to(device)\n",
    "        attn_mask = batch[\"attention_mask\"].to(device)\n",
    "        labels    = batch[\"labels\"].to(device)\n",
    "\n",
    "        logits = model(input_ids=input_ids, attention_mask=attn_mask).logits\n",
    "        probs  = F.softmax(logits, dim=1)\n",
    "        y_pred = probs.argmax(dim=1)\n",
    "\n",
    "        preds.extend(y_pred.cpu().numpy().tolist())\n",
    "        gold.extend(labels.cpu().numpy().tolist())\n",
    "        max_confs.extend(probs.max(dim=1).values.cpu().numpy().tolist())\n",
    "\n",
    "# Metrics\n",
    "print(\"TEST acc:\", accuracy_score(gold, preds))\n",
    "print(\"TEST macro-F1:\", f1_score(gold, preds, average=\"macro\"))\n",
    "print(classification_report(gold, preds, target_names=list(le.classes_)))"
   ]
  },
  {
   "cell_type": "code",
   "execution_count": 19,
   "id": "ffb26e4c-2bfd-48e8-83ae-d3d3ef723703",
   "metadata": {},
   "outputs": [
    {
     "data": {
      "image/png": "[encoded data removed]",
      "text/plain": [
       "<Figure size 1200x500 with 2 Axes>"
      ]
     },
     "metadata": {},
     "output_type": "display_data"
    }
   ],
   "source": [
    "# Confusion matrices (counts + row-normalized)\n",
    "labels_idx = list(range(len(le.classes_)))\n",
    "fig, ax = plt.subplots(1, 2, figsize=(12, 5))\n",
    "\n",
    "cm_raw  = confusion_matrix(gold, preds, labels=labels_idx)\n",
    "ConfusionMatrixDisplay(cm_raw, display_labels=le.classes_).plot(ax=ax[0], cmap=\"Blues\", colorbar=False)\n",
    "ax[0].set_title(\"Confusion Matrix (counts)\")\n",
    "ax[0].tick_params(axis='x', rotation=45)\n",
    "\n",
    "cm_norm = confusion_matrix(gold, preds, labels=labels_idx, normalize=\"true\")\n",
    "ConfusionMatrixDisplay(cm_norm, display_labels=le.classes_).plot(ax=ax[1], cmap=\"Blues\", colorbar=False)\n",
    "ax[1].set_title(\"Confusion Matrix (normalized)\")\n",
    "ax[1].tick_params(axis='x', rotation=45)\n",
    "\n",
    "plt.tight_layout()\n",
    "plt.show()"
   ]
  },
  {
   "cell_type": "markdown",
   "id": "92ace3f9-a5e1-4d85-9171-8c5c4bf1d701",
   "metadata": {},
   "source": [
    "# Conclusions\n",
    "\n",
    "What I achieved:\n",
    "\n",
    " - Final model: XLM-RoBERTa base.\n",
    " - TEST: Acc 0.73, macro-F1 0.73.\n",
    " - Strong classes: Report, Transfers, Injuries, Pre-Match (F1 ≈ 0.73–0.88).\n",
    " - Main issue: Interview ↔ Reaction confusion (Interview F1 ≈ 0.40; Reaction recall 0.94, precision 0.48).\n",
    "\n",
    "What I'd do to make it better:\n",
    "\n",
    " - I'd find/generate more instances of all classes except `Reaction`.\n",
    " - To target the confusion between Interview and Reaction I'd increase `Interview` sampling weight, reduce label smoothing, Bump MAX_LEN to 192 to keep more context."
   ]
  }
 ],
 "metadata": {
  "kernelspec": {
   "display_name": "Python 3 (ipykernel)",
   "language": "python",
   "name": "python3"
  },
  "language_info": {
   "codemirror_mode": {
    "name": "ipython",
    "version": 3
   },
   "file_extension": ".py",
   "mimetype": "text/x-python",
   "name": "python",
   "nbconvert_exporter": "python",
   "pygments_lexer": "ipython3",
   "version": "3.13.7"
  }
 },
 "nbformat": 4,
 "nbformat_minor": 5
}
